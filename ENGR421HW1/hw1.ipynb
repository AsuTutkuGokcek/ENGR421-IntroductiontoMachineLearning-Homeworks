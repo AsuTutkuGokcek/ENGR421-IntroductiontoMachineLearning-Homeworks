{
 "cells": [
  {
   "cell_type": "markdown",
   "metadata": {},
   "source": [
    "## Libraries"
   ]
  },
  {
   "cell_type": "code",
   "execution_count": 11,
   "metadata": {},
   "outputs": [],
   "source": [
    "import math\n",
    "import matplotlib.pyplot as plt\n",
    "import numpy as np\n",
    "import scipy.stats as stats"
   ]
  },
  {
   "cell_type": "markdown",
   "metadata": {},
   "source": [
    "## Import Data "
   ]
  },
  {
   "cell_type": "code",
   "execution_count": null,
   "metadata": {},
   "outputs": [],
   "source": [
    "data_set = np.genfromtxt(fname = \"hw01_data_points.csv\", dtype=str, delimiter = \",\")\n",
    "class_labels = np.genfromtxt(fname = \"hw01_class_labels.csv\").astype(int)\n",
    "\n",
    "training_data = data_set[0:300,:]\n",
    "test_data = data_set[300:400,:]"
   ]
  },
  {
   "cell_type": "markdown",
   "metadata": {},
   "source": [
    "## Question 4"
   ]
  },
  {
   "cell_type": "code",
   "execution_count": null,
   "metadata": {},
   "outputs": [],
   "source": [
    "#check how many 1 and 2 classes there are in the first 300 rows\n",
    "training_one_counter = 0\n",
    "training_two_counter = 0\n",
    "for i in class_labels[0:300] :\n",
    "    if i==1 :\n",
    "        training_one_counter += 1\n",
    "    else :\n",
    "        training_two_counter += 1\n",
    "\n",
    "class_priors = [training_one_counter/300, training_two_counter/300]\n",
    "\n",
    "training_count = [[0 for i in range(7)] for j in range(8)]\n",
    "# temp selects row of training_count\n",
    "# j selects column of training count\n",
    "for i in range(300) :\n",
    "    for j in range(7) : \n",
    "        if training_data[i,j] == \"A\" :\n",
    "            temp = 0\n",
    "        elif training_data[i,j] == \"C\" :\n",
    "            temp = 2\n",
    "        elif training_data[i,j] == \"G\" :\n",
    "            temp = 4\n",
    "        elif training_data[i,j] == \"T\" :\n",
    "            temp = 6   \n",
    "        if class_labels[i] == 2 :\n",
    "            temp += 1\n",
    "        training_count[temp][j] += 1\n",
    "result = np.array(training_count)/150   #150 in each class \n",
    "pAcd = result[0:2,:]\n",
    "pCcd = result[2:4,:]\n",
    "pGcd = result[4:6,:]\n",
    "pTcd = result[6:8,:]\n",
    "print(pAcd)\n",
    "print(pCcd)\n",
    "print(pGcd)\n",
    "print(pTcd)\n",
    "print(class_priors)\n"
   ]
  },
  {
   "cell_type": "markdown",
   "metadata": {},
   "source": [
    "## Question 5"
   ]
  },
  {
   "cell_type": "code",
   "execution_count": 55,
   "metadata": {},
   "outputs": [
    {
     "name": "stdout",
     "output_type": "stream",
     "text": [
      "[[145  14]\n",
      " [  5 136]]\n"
     ]
    }
   ],
   "source": [
    "confusion_train = [[0,0],[0,0]]\n",
    "\n",
    "for i in range(300) :\n",
    "    probability_vector = 1\n",
    "    prediction = 0\n",
    "    for j in range(7) :\n",
    "        if training_data[i,j] == \"A\" :\n",
    "            probability_vector *= pAcd[:,j]\n",
    "        elif training_data[i,j] == \"C\" :\n",
    "            probability_vector *= pCcd[:,j]\n",
    "        elif training_data[i,j] == \"G\" :\n",
    "            probability_vector *= pGcd[:,j]\n",
    "        elif training_data[i,j] == \"T\" :\n",
    "            probability_vector *= pTcd[:,j]\n",
    "            \n",
    "    if probability_vector[0] > probability_vector[1]:\n",
    "        prediction = 1\n",
    "    else:\n",
    "        prediction = 2\n",
    "        \n",
    "    if class_labels[i] == prediction :\n",
    "        if prediction == 1:\n",
    "            confusion_train[0][0] += 1\n",
    "        else:\n",
    "            confusion_train[1][1] += 1\n",
    "    else:\n",
    "        if prediction == 1:\n",
    "            confusion_train[0][1] += 1\n",
    "        else:\n",
    "            confusion_train[1][0] += 1\n",
    "print(np.array(confusion_train))"
   ]
  },
  {
   "cell_type": "markdown",
   "metadata": {},
   "source": [
    "## Question 6"
   ]
  },
  {
   "cell_type": "code",
   "execution_count": 61,
   "metadata": {},
   "outputs": [
    {
     "name": "stdout",
     "output_type": "stream",
     "text": [
      "[[48  8]\n",
      " [ 2 42]]\n"
     ]
    }
   ],
   "source": [
    "confusion_test = [[0,0],[0,0]]\n",
    "\n",
    "for i in range(100) :\n",
    "    probability_vector = 1\n",
    "    prediction = 0\n",
    "    for j in range(7) :\n",
    "        if test_data[i,j] == \"A\" :\n",
    "            probability_vector *= pAcd[:,j]\n",
    "        elif test_data[i,j] == \"C\" :\n",
    "            probability_vector *= pCcd[:,j]\n",
    "        elif test_data[i,j] == \"G\" :\n",
    "            probability_vector *= pGcd[:,j]\n",
    "        elif test_data[i,j] == \"T\" :\n",
    "            probability_vector *= pTcd[:,j]\n",
    "            \n",
    "    if probability_vector[0] > probability_vector[1]:\n",
    "        prediction = 1\n",
    "    else:\n",
    "        prediction = 2\n",
    "        \n",
    "    if class_labels[i+300] == prediction :\n",
    "        if prediction == 1:\n",
    "            confusion_test[0][0] += 1\n",
    "        else:\n",
    "            confusion_test[1][1] += 1\n",
    "    else:\n",
    "        if prediction == 1:\n",
    "            confusion_test[0][1] += 1\n",
    "        else:\n",
    "            confusion_test[1][0] += 1\n",
    "print(np.array(confusion_test))"
   ]
  }
 ],
 "metadata": {
  "kernelspec": {
   "display_name": "Python 3.10.4 64-bit",
   "language": "python",
   "name": "python3"
  },
  "language_info": {
   "codemirror_mode": {
    "name": "ipython",
    "version": 3
   },
   "file_extension": ".py",
   "mimetype": "text/x-python",
   "name": "python",
   "nbconvert_exporter": "python",
   "pygments_lexer": "ipython3",
   "version": "3.10.4"
  },
  "orig_nbformat": 4,
  "vscode": {
   "interpreter": {
    "hash": "d79116ce059b843dd39d710e8cc50b498d4ac246b705ccb47ec00a2beb3b309a"
   }
  }
 },
 "nbformat": 4,
 "nbformat_minor": 2
}
